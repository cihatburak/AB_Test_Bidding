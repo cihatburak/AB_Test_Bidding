{
 "cells": [
  {
   "cell_type": "markdown",
   "id": "f483a196",
   "metadata": {
    "_cell_guid": "478fb803-22d6-44ac-88f1-8a940a1515a2",
    "_uuid": "c79628bb-8690-4d95-81ca-c6818f97cce0",
    "papermill": {
     "duration": 0.009238,
     "end_time": "2022-07-28T08:30:32.350090",
     "exception": false,
     "start_time": "2022-07-28T08:30:32.340852",
     "status": "completed"
    },
    "tags": []
   },
   "source": [
    "<center> <h1 style=\"background-color:DarkSlateGray; color:white\" >A/B Testing for a Cute Mobile Game</h1> \n",
    "\n",
    "<center><img\n",
    "src=\"https://tactilegames.com/wp-content/uploads/2018/05/cookie-cats.png\" style=\"width:40%;height:40%;\">\n",
    "</center>\n",
    "    \n",
    "<br>    \n",
    "\n",
    "\n",
    "\n",
    "Cookie Cats is a hugely popular mobile puzzle game developed by Tactile Entertainment. It's a classic \"connect three\" style puzzle game where the player must connect tiles of the same color in order to clear the board and win the level. It also features singing cats. We're not kidding!\n",
    "\n",
    "**As players progress through the game they will encounter gates that force them to wait some time before they can progress or make an in-app purchase. In this project, we will analyze the result of an A/B test where the first gate in Cookie Cats was moved from level 30 to level 40. In particular, we will analyze the impact on player retention and game rounds**.\n",
    "\n",
    "**Let's Start!**"
   ]
  },
  {
   "cell_type": "markdown",
   "id": "1febcb21",
   "metadata": {
    "papermill": {
     "duration": 0.009648,
     "end_time": "2022-07-28T08:30:32.368215",
     "exception": false,
     "start_time": "2022-07-28T08:30:32.358567",
     "status": "completed"
    },
    "tags": []
   },
   "source": [
    "<h3 style=\"color:DarkSlateGray\" >1. PACKAGES</h3>"
   ]
  },
  {
   "cell_type": "code",
   "execution_count": 1,
   "id": "b50cdc8c",
   "metadata": {
    "execution": {
     "iopub.execute_input": "2022-07-28T08:30:32.387800Z",
     "iopub.status.busy": "2022-07-28T08:30:32.386820Z",
     "iopub.status.idle": "2022-07-28T08:30:33.394291Z",
     "shell.execute_reply": "2022-07-28T08:30:33.391364Z"
    },
    "papermill": {
     "duration": 1.020881,
     "end_time": "2022-07-28T08:30:33.397462",
     "exception": false,
     "start_time": "2022-07-28T08:30:32.376581",
     "status": "completed"
    },
    "tags": []
   },
   "outputs": [],
   "source": [
    "import numpy as np\n",
    "import pandas as pd \n",
    "import seaborn as sns\n",
    "import matplotlib.pyplot as plt\n",
    "import os\n",
    "\n",
    "from scipy.stats import shapiro,levene, ttest_ind, mannwhitneyu\n",
    "import scipy.stats as stats\n",
    "\n",
    "import warnings\n",
    "warnings.filterwarnings(\"ignore\")\n",
    "warnings.simplefilter(action='ignore', category=FutureWarning)\n",
    "\n",
    "pd.set_option('display.max_columns', None)\n",
    "pd.options.display.float_format = '{:.4f}'.format"
   ]
  },
  {
   "cell_type": "markdown",
   "id": "eb7d33cd",
   "metadata": {
    "papermill": {
     "duration": 0.012496,
     "end_time": "2022-07-28T08:30:33.420050",
     "exception": false,
     "start_time": "2022-07-28T08:30:33.407554",
     "status": "completed"
    },
    "tags": []
   },
   "source": [
    "<h3 style=\"color:DarkSlateGray\" >2. DATA</h3>"
   ]
  },
  {
   "cell_type": "code",
   "execution_count": 2,
   "id": "be9a84ac",
   "metadata": {
    "execution": {
     "iopub.execute_input": "2022-07-28T08:30:33.442985Z",
     "iopub.status.busy": "2022-07-28T08:30:33.442154Z",
     "iopub.status.idle": "2022-07-28T08:30:33.562170Z",
     "shell.execute_reply": "2022-07-28T08:30:33.561393Z"
    },
    "papermill": {
     "duration": 0.132979,
     "end_time": "2022-07-28T08:30:33.564859",
     "exception": false,
     "start_time": "2022-07-28T08:30:33.431880",
     "status": "completed"
    },
    "tags": []
   },
   "outputs": [
    {
     "data": {
      "text/html": [
       "<div>\n",
       "<style scoped>\n",
       "    .dataframe tbody tr th:only-of-type {\n",
       "        vertical-align: middle;\n",
       "    }\n",
       "\n",
       "    .dataframe tbody tr th {\n",
       "        vertical-align: top;\n",
       "    }\n",
       "\n",
       "    .dataframe thead th {\n",
       "        text-align: right;\n",
       "    }\n",
       "</style>\n",
       "<table border=\"1\" class=\"dataframe\">\n",
       "  <thead>\n",
       "    <tr style=\"text-align: right;\">\n",
       "      <th></th>\n",
       "      <th>userid</th>\n",
       "      <th>version</th>\n",
       "      <th>sum_gamerounds</th>\n",
       "      <th>retention_1</th>\n",
       "      <th>retention_7</th>\n",
       "    </tr>\n",
       "  </thead>\n",
       "  <tbody>\n",
       "    <tr>\n",
       "      <th>0</th>\n",
       "      <td>116</td>\n",
       "      <td>gate_30</td>\n",
       "      <td>3</td>\n",
       "      <td>False</td>\n",
       "      <td>False</td>\n",
       "    </tr>\n",
       "    <tr>\n",
       "      <th>1</th>\n",
       "      <td>337</td>\n",
       "      <td>gate_30</td>\n",
       "      <td>38</td>\n",
       "      <td>True</td>\n",
       "      <td>False</td>\n",
       "    </tr>\n",
       "    <tr>\n",
       "      <th>2</th>\n",
       "      <td>377</td>\n",
       "      <td>gate_40</td>\n",
       "      <td>165</td>\n",
       "      <td>True</td>\n",
       "      <td>False</td>\n",
       "    </tr>\n",
       "    <tr>\n",
       "      <th>3</th>\n",
       "      <td>483</td>\n",
       "      <td>gate_40</td>\n",
       "      <td>1</td>\n",
       "      <td>False</td>\n",
       "      <td>False</td>\n",
       "    </tr>\n",
       "    <tr>\n",
       "      <th>4</th>\n",
       "      <td>488</td>\n",
       "      <td>gate_40</td>\n",
       "      <td>179</td>\n",
       "      <td>True</td>\n",
       "      <td>True</td>\n",
       "    </tr>\n",
       "  </tbody>\n",
       "</table>\n",
       "</div>"
      ],
      "text/plain": [
       "   userid  version  sum_gamerounds  retention_1  retention_7\n",
       "0     116  gate_30               3        False        False\n",
       "1     337  gate_30              38         True        False\n",
       "2     377  gate_40             165         True        False\n",
       "3     483  gate_40               1        False        False\n",
       "4     488  gate_40             179         True         True"
      ]
     },
     "execution_count": 2,
     "metadata": {},
     "output_type": "execute_result"
    }
   ],
   "source": [
    "path = \"../input/mobile-games-ab-testing/cookie_cats.csv\"\n",
    "df_ab = pd.read_csv(path)\n",
    "df_ab.head()"
   ]
  },
  {
   "cell_type": "code",
   "execution_count": 3,
   "id": "508081f5",
   "metadata": {
    "execution": {
     "iopub.execute_input": "2022-07-28T08:30:33.584419Z",
     "iopub.status.busy": "2022-07-28T08:30:33.583417Z",
     "iopub.status.idle": "2022-07-28T08:30:33.610157Z",
     "shell.execute_reply": "2022-07-28T08:30:33.608938Z"
    },
    "papermill": {
     "duration": 0.038791,
     "end_time": "2022-07-28T08:30:33.612499",
     "exception": false,
     "start_time": "2022-07-28T08:30:33.573708",
     "status": "completed"
    },
    "tags": []
   },
   "outputs": [
    {
     "name": "stdout",
     "output_type": "stream",
     "text": [
      "##################### Shape #####################\n",
      "(90189, 5)\n",
      "##################### Types #####################\n",
      "userid             int64\n",
      "version           object\n",
      "sum_gamerounds     int64\n",
      "retention_1         bool\n",
      "retention_7         bool\n",
      "dtype: object\n",
      "##################### Head #####################\n",
      "   userid  version  sum_gamerounds  retention_1  retention_7\n",
      "0     116  gate_30               3        False        False\n",
      "1     337  gate_30              38         True        False\n",
      "2     377  gate_40             165         True        False\n",
      "##################### Tail #####################\n",
      "        userid  version  sum_gamerounds  retention_1  retention_7\n",
      "90186  9999710  gate_30              28         True        False\n",
      "90187  9999768  gate_40              51         True        False\n",
      "90188  9999861  gate_40              16        False        False\n",
      "##################### NA #####################\n",
      "userid            0\n",
      "version           0\n",
      "sum_gamerounds    0\n",
      "retention_1       0\n",
      "retention_7       0\n",
      "dtype: int64\n"
     ]
    }
   ],
   "source": [
    "def check_df(dataframe):\n",
    "    print(\"##################### Shape #####################\")\n",
    "    print(dataframe.shape)\n",
    "    print(\"##################### Types #####################\")\n",
    "    print(dataframe.dtypes)\n",
    "    print(\"##################### Head #####################\")\n",
    "    print(dataframe.head(3))\n",
    "    print(\"##################### Tail #####################\")\n",
    "    print(dataframe.tail(3))\n",
    "    print(\"##################### NA #####################\")\n",
    "    print(dataframe.isnull().sum())\n",
    "\n",
    "check_df(df_ab)"
   ]
  },
  {
   "cell_type": "markdown",
   "id": "3711ba8b",
   "metadata": {
    "papermill": {
     "duration": 0.008362,
     "end_time": "2022-07-28T08:30:33.629236",
     "exception": false,
     "start_time": "2022-07-28T08:30:33.620874",
     "status": "completed"
    },
    "tags": []
   },
   "source": [
    "<h3 style=\"color:DarkSlateGray\" >3. SUMMARY STATS</h3>"
   ]
  },
  {
   "cell_type": "code",
   "execution_count": 4,
   "id": "33b6bbdf",
   "metadata": {
    "execution": {
     "iopub.execute_input": "2022-07-28T08:30:33.648667Z",
     "iopub.status.busy": "2022-07-28T08:30:33.648027Z",
     "iopub.status.idle": "2022-07-28T08:30:33.692538Z",
     "shell.execute_reply": "2022-07-28T08:30:33.691254Z"
    },
    "papermill": {
     "duration": 0.057115,
     "end_time": "2022-07-28T08:30:33.695070",
     "exception": false,
     "start_time": "2022-07-28T08:30:33.637955",
     "status": "completed"
    },
    "tags": []
   },
   "outputs": [
    {
     "name": "stdout",
     "output_type": "stream",
     "text": [
      "True\n"
     ]
    },
    {
     "data": {
      "text/html": [
       "<div>\n",
       "<style scoped>\n",
       "    .dataframe tbody tr th:only-of-type {\n",
       "        vertical-align: middle;\n",
       "    }\n",
       "\n",
       "    .dataframe tbody tr th {\n",
       "        vertical-align: top;\n",
       "    }\n",
       "\n",
       "    .dataframe thead th {\n",
       "        text-align: right;\n",
       "    }\n",
       "</style>\n",
       "<table border=\"1\" class=\"dataframe\">\n",
       "  <thead>\n",
       "    <tr style=\"text-align: right;\">\n",
       "      <th></th>\n",
       "      <th>count</th>\n",
       "      <th>mean</th>\n",
       "      <th>std</th>\n",
       "      <th>min</th>\n",
       "      <th>1%</th>\n",
       "      <th>5%</th>\n",
       "      <th>10%</th>\n",
       "      <th>20%</th>\n",
       "      <th>50%</th>\n",
       "      <th>80%</th>\n",
       "      <th>90%</th>\n",
       "      <th>95%</th>\n",
       "      <th>99%</th>\n",
       "      <th>max</th>\n",
       "    </tr>\n",
       "  </thead>\n",
       "  <tbody>\n",
       "    <tr>\n",
       "      <th>sum_gamerounds</th>\n",
       "      <td>90189.0000</td>\n",
       "      <td>51.8725</td>\n",
       "      <td>195.0509</td>\n",
       "      <td>0.0000</td>\n",
       "      <td>0.0000</td>\n",
       "      <td>1.0000</td>\n",
       "      <td>1.0000</td>\n",
       "      <td>3.0000</td>\n",
       "      <td>16.0000</td>\n",
       "      <td>67.0000</td>\n",
       "      <td>134.0000</td>\n",
       "      <td>221.0000</td>\n",
       "      <td>493.0000</td>\n",
       "      <td>49854.0000</td>\n",
       "    </tr>\n",
       "  </tbody>\n",
       "</table>\n",
       "</div>"
      ],
      "text/plain": [
       "                    count    mean      std    min     1%     5%    10%    20%  \\\n",
       "sum_gamerounds 90189.0000 51.8725 195.0509 0.0000 0.0000 1.0000 1.0000 3.0000   \n",
       "\n",
       "                   50%     80%      90%      95%      99%        max  \n",
       "sum_gamerounds 16.0000 67.0000 134.0000 221.0000 493.0000 49854.0000  "
      ]
     },
     "execution_count": 4,
     "metadata": {},
     "output_type": "execute_result"
    }
   ],
   "source": [
    "# Number of Unique User\n",
    "print(df_ab.userid.nunique() == df_ab.shape[0])\n",
    "# Summary Stats: sum_gamerounds\n",
    "df_ab.describe([0.01, 0.05, 0.10, 0.20, 0.80, 0.90, 0.95, 0.99])[[\"sum_gamerounds\"]].T"
   ]
  },
  {
   "cell_type": "code",
   "execution_count": 5,
   "id": "ee4a1b97",
   "metadata": {
    "execution": {
     "iopub.execute_input": "2022-07-28T08:30:33.715893Z",
     "iopub.status.busy": "2022-07-28T08:30:33.715143Z",
     "iopub.status.idle": "2022-07-28T08:30:33.748053Z",
     "shell.execute_reply": "2022-07-28T08:30:33.746936Z"
    },
    "papermill": {
     "duration": 0.046498,
     "end_time": "2022-07-28T08:30:33.750785",
     "exception": false,
     "start_time": "2022-07-28T08:30:33.704287",
     "status": "completed"
    },
    "tags": []
   },
   "outputs": [
    {
     "data": {
      "text/html": [
       "<div>\n",
       "<style scoped>\n",
       "    .dataframe tbody tr th:only-of-type {\n",
       "        vertical-align: middle;\n",
       "    }\n",
       "\n",
       "    .dataframe tbody tr th {\n",
       "        vertical-align: top;\n",
       "    }\n",
       "\n",
       "    .dataframe thead th {\n",
       "        text-align: right;\n",
       "    }\n",
       "</style>\n",
       "<table border=\"1\" class=\"dataframe\">\n",
       "  <thead>\n",
       "    <tr style=\"text-align: right;\">\n",
       "      <th></th>\n",
       "      <th>count</th>\n",
       "      <th>median</th>\n",
       "      <th>mean</th>\n",
       "      <th>std</th>\n",
       "      <th>max</th>\n",
       "    </tr>\n",
       "    <tr>\n",
       "      <th>version</th>\n",
       "      <th></th>\n",
       "      <th></th>\n",
       "      <th></th>\n",
       "      <th></th>\n",
       "      <th></th>\n",
       "    </tr>\n",
       "  </thead>\n",
       "  <tbody>\n",
       "    <tr>\n",
       "      <th>gate_30</th>\n",
       "      <td>44700</td>\n",
       "      <td>17.0000</td>\n",
       "      <td>52.4563</td>\n",
       "      <td>256.7164</td>\n",
       "      <td>49854</td>\n",
       "    </tr>\n",
       "    <tr>\n",
       "      <th>gate_40</th>\n",
       "      <td>45489</td>\n",
       "      <td>16.0000</td>\n",
       "      <td>51.2988</td>\n",
       "      <td>103.2944</td>\n",
       "      <td>2640</td>\n",
       "    </tr>\n",
       "  </tbody>\n",
       "</table>\n",
       "</div>"
      ],
      "text/plain": [
       "         count  median    mean      std    max\n",
       "version                                       \n",
       "gate_30  44700 17.0000 52.4563 256.7164  49854\n",
       "gate_40  45489 16.0000 51.2988 103.2944   2640"
      ]
     },
     "execution_count": 5,
     "metadata": {},
     "output_type": "execute_result"
    }
   ],
   "source": [
    "# A/B Groups - Target Summary Stats\n",
    "df_ab.groupby(\"version\").sum_gamerounds.agg([\"count\", \"median\", \"mean\", \"std\", \"max\"])"
   ]
  },
  {
   "cell_type": "markdown",
   "id": "f7d777fd",
   "metadata": {
    "papermill": {
     "duration": 0.008906,
     "end_time": "2022-07-28T08:30:33.769490",
     "exception": false,
     "start_time": "2022-07-28T08:30:33.760584",
     "status": "completed"
    },
    "tags": []
   },
   "source": [
    "<h3 style=\"color:DarkSlateGray\" >4. OUTLIERS</h3>"
   ]
  },
  {
   "cell_type": "code",
   "execution_count": 6,
   "id": "fa650ae2",
   "metadata": {
    "execution": {
     "iopub.execute_input": "2022-07-28T08:30:33.789787Z",
     "iopub.status.busy": "2022-07-28T08:30:33.789140Z",
     "iopub.status.idle": "2022-07-28T08:30:33.807571Z",
     "shell.execute_reply": "2022-07-28T08:30:33.806699Z"
    },
    "papermill": {
     "duration": 0.030861,
     "end_time": "2022-07-28T08:30:33.809706",
     "exception": false,
     "start_time": "2022-07-28T08:30:33.778845",
     "status": "completed"
    },
    "tags": []
   },
   "outputs": [
    {
     "data": {
      "text/plain": [
       "True"
      ]
     },
     "execution_count": 6,
     "metadata": {},
     "output_type": "execute_result"
    }
   ],
   "source": [
    "def outlier_thresholds(dataframe, variable, low_quantile=0.10, up_quantile=0.90):\n",
    "    quantile_one = dataframe[variable].quantile(low_quantile)\n",
    "    quantile_three = dataframe[variable].quantile(up_quantile)\n",
    "    interquantile_range = quantile_three - quantile_one\n",
    "    up_limit = quantile_three + 1.5 * interquantile_range\n",
    "    low_limit = quantile_one - 1.5 * interquantile_range\n",
    "    return low_limit, up_limit\n",
    "\n",
    "# Check Outliers\n",
    "def check_outlier(dataframe, col_name):\n",
    "    low_limit, up_limit = outlier_thresholds(dataframe, col_name)\n",
    "    if dataframe[(dataframe[col_name] > up_limit) | (dataframe[col_name] < low_limit)].any(axis=None):\n",
    "        return True\n",
    "    else:\n",
    "        return False\n",
    "\n",
    "check_outlier(df_ab, \"sum_gamerounds\")"
   ]
  },
  {
   "cell_type": "code",
   "execution_count": 7,
   "id": "bfe66eac",
   "metadata": {
    "execution": {
     "iopub.execute_input": "2022-07-28T08:30:33.830727Z",
     "iopub.status.busy": "2022-07-28T08:30:33.830050Z",
     "iopub.status.idle": "2022-07-28T08:30:34.021083Z",
     "shell.execute_reply": "2022-07-28T08:30:34.020317Z"
    },
    "papermill": {
     "duration": 0.204055,
     "end_time": "2022-07-28T08:30:34.023109",
     "exception": false,
     "start_time": "2022-07-28T08:30:33.819054",
     "status": "completed"
    },
    "tags": []
   },
   "outputs": [
    {
     "data": {
      "image/png": "[encoded data removed]",
      "text/plain": [
       "<Figure size 432x288 with 1 Axes>"
      ]
     },
     "metadata": {
      "needs_background": "light"
     },
     "output_type": "display_data"
    }
   ],
   "source": [
    "plt.figure(figsize=(6,4))\n",
    "plt.boxplot(df_ab[\"sum_gamerounds\"])\n",
    "plt.show()"
   ]
  },
  {
   "cell_type": "code",
   "execution_count": 8,
   "id": "77c17825",
   "metadata": {
    "execution": {
     "iopub.execute_input": "2022-07-28T08:30:34.044913Z",
     "iopub.status.busy": "2022-07-28T08:30:34.043824Z",
     "iopub.status.idle": "2022-07-28T08:30:34.057087Z",
     "shell.execute_reply": "2022-07-28T08:30:34.056334Z"
    },
    "papermill": {
     "duration": 0.02627,
     "end_time": "2022-07-28T08:30:34.059323",
     "exception": false,
     "start_time": "2022-07-28T08:30:34.033053",
     "status": "completed"
    },
    "tags": []
   },
   "outputs": [],
   "source": [
    "def replace_with_thresholds(dataframe, variable):\n",
    "    low_limit, up_limit = outlier_thresholds(dataframe, variable)\n",
    "    dataframe.loc[(dataframe[variable] < low_limit), variable] = low_limit\n",
    "    dataframe.loc[(dataframe[variable] > up_limit), variable] = up_limit\n",
    "\n",
    "replace_with_thresholds(df_ab, \"sum_gamerounds\")"
   ]
  },
  {
   "cell_type": "code",
   "execution_count": 9,
   "id": "3bb3829b",
   "metadata": {
    "execution": {
     "iopub.execute_input": "2022-07-28T08:30:34.079578Z",
     "iopub.status.busy": "2022-07-28T08:30:34.079211Z",
     "iopub.status.idle": "2022-07-28T08:30:34.241342Z",
     "shell.execute_reply": "2022-07-28T08:30:34.240541Z"
    },
    "papermill": {
     "duration": 0.174816,
     "end_time": "2022-07-28T08:30:34.243410",
     "exception": false,
     "start_time": "2022-07-28T08:30:34.068594",
     "status": "completed"
    },
    "tags": []
   },
   "outputs": [
    {
     "data": {
      "image/png": "[encoded data removed]",
      "text/plain": [
       "<Figure size 432x288 with 1 Axes>"
      ]
     },
     "metadata": {
      "needs_background": "light"
     },
     "output_type": "display_data"
    }
   ],
   "source": [
    "plt.figure(figsize=(6,4))\n",
    "plt.boxplot(df_ab[\"sum_gamerounds\"])\n",
    "plt.show()"
   ]
  },
  {
   "cell_type": "markdown",
   "id": "b3a450e4",
   "metadata": {
    "papermill": {
     "duration": 0.009488,
     "end_time": "2022-07-28T08:30:34.262551",
     "exception": false,
     "start_time": "2022-07-28T08:30:34.253063",
     "status": "completed"
    },
    "tags": []
   },
   "source": [
    "<h3 style=\"color:DarkSlateGray\" >5. SOME OBSERVATIONS & COMMENTS</h3>"
   ]
  },
  {
   "cell_type": "code",
   "execution_count": 10,
   "id": "4a84833a",
   "metadata": {
    "execution": {
     "iopub.execute_input": "2022-07-28T08:30:34.283720Z",
     "iopub.status.busy": "2022-07-28T08:30:34.283348Z",
     "iopub.status.idle": "2022-07-28T08:30:34.296010Z",
     "shell.execute_reply": "2022-07-28T08:30:34.294882Z"
    },
    "papermill": {
     "duration": 0.025791,
     "end_time": "2022-07-28T08:30:34.298140",
     "exception": false,
     "start_time": "2022-07-28T08:30:34.272349",
     "status": "completed"
    },
    "tags": []
   },
   "outputs": [
    {
     "data": {
      "text/plain": [
       "sum_gamerounds\n",
       "0.0000    3994\n",
       "1.0000    5538\n",
       "2.0000    4606\n",
       "3.0000    3958\n",
       "4.0000    3629\n",
       "Name: userid, dtype: int64"
      ]
     },
     "execution_count": 10,
     "metadata": {},
     "output_type": "execute_result"
    }
   ],
   "source": [
    "df_ab.groupby(\"sum_gamerounds\").userid.agg(\"count\").head()"
   ]
  },
  {
   "cell_type": "markdown",
   "id": "f04b44f0",
   "metadata": {
    "papermill": {
     "duration": 0.009674,
     "end_time": "2022-07-28T08:30:34.317524",
     "exception": false,
     "start_time": "2022-07-28T08:30:34.307850",
     "status": "completed"
    },
    "tags": []
   },
   "source": [
    "**3994 users never played the game and too many people playing the game too few , but why ?**\n",
    "\n",
    "Maybe , this users have no free time to play game.\n",
    "Maybe they don't like the game so prefer to download other games or they play different games.\n",
    "\n",
    "**What can be done ?**\n",
    "\n",
    "Tactile Entertainment should learn why users churn playing the game.\n",
    "Doing research and collecting data about the game stages and make detailed analysis.\n",
    "The difficulty of the game can be measured.\n",
    "In-game incentives and gifts can be given by reminding them again with notifications."
   ]
  },
  {
   "cell_type": "code",
   "execution_count": 11,
   "id": "1c7f8343",
   "metadata": {
    "execution": {
     "iopub.execute_input": "2022-07-28T08:30:34.339280Z",
     "iopub.status.busy": "2022-07-28T08:30:34.338620Z",
     "iopub.status.idle": "2022-07-28T08:30:34.350561Z",
     "shell.execute_reply": "2022-07-28T08:30:34.349414Z"
    },
    "papermill": {
     "duration": 0.025475,
     "end_time": "2022-07-28T08:30:34.352810",
     "exception": false,
     "start_time": "2022-07-28T08:30:34.327335",
     "status": "completed"
    },
    "tags": []
   },
   "outputs": [
    {
     "data": {
      "text/plain": [
       "sum_gamerounds\n",
       "30    642\n",
       "40    505\n",
       "Name: userid, dtype: int64"
      ]
     },
     "execution_count": 11,
     "metadata": {},
     "output_type": "execute_result"
    }
   ],
   "source": [
    "# Users reached gate 30 & gate 40 levels\n",
    "df_ab.groupby(\"sum_gamerounds\").userid.count().loc[[30,40]]"
   ]
  },
  {
   "cell_type": "markdown",
   "id": "f3aa61ac",
   "metadata": {
    "papermill": {
     "duration": 0.009742,
     "end_time": "2022-07-28T08:30:34.372517",
     "exception": false,
     "start_time": "2022-07-28T08:30:34.362775",
     "status": "completed"
    },
    "tags": []
   },
   "source": [
    "**gate_30 and gate_40 are our control and Test groups. They seem similar, but are the two groups statistically significant?** \n",
    "\n",
    "We will investigate that the two groups statistically significant or not."
   ]
  },
  {
   "cell_type": "code",
   "execution_count": 12,
   "id": "059e50d8",
   "metadata": {
    "execution": {
     "iopub.execute_input": "2022-07-28T08:30:34.395494Z",
     "iopub.status.busy": "2022-07-28T08:30:34.394469Z",
     "iopub.status.idle": "2022-07-28T08:30:34.419929Z",
     "shell.execute_reply": "2022-07-28T08:30:34.418618Z"
    },
    "papermill": {
     "duration": 0.039968,
     "end_time": "2022-07-28T08:30:34.422406",
     "exception": false,
     "start_time": "2022-07-28T08:30:34.382438",
     "status": "completed"
    },
    "tags": []
   },
   "outputs": [
    {
     "data": {
      "text/html": [
       "<div>\n",
       "<style scoped>\n",
       "    .dataframe tbody tr th:only-of-type {\n",
       "        vertical-align: middle;\n",
       "    }\n",
       "\n",
       "    .dataframe tbody tr th {\n",
       "        vertical-align: top;\n",
       "    }\n",
       "\n",
       "    .dataframe thead th {\n",
       "        text-align: right;\n",
       "    }\n",
       "</style>\n",
       "<table border=\"1\" class=\"dataframe\">\n",
       "  <thead>\n",
       "    <tr style=\"text-align: right;\">\n",
       "      <th></th>\n",
       "      <th>count</th>\n",
       "      <th>median</th>\n",
       "      <th>mean</th>\n",
       "      <th>max</th>\n",
       "    </tr>\n",
       "    <tr>\n",
       "      <th>version</th>\n",
       "      <th></th>\n",
       "      <th></th>\n",
       "      <th></th>\n",
       "      <th></th>\n",
       "    </tr>\n",
       "  </thead>\n",
       "  <tbody>\n",
       "    <tr>\n",
       "      <th>gate_30</th>\n",
       "      <td>44700</td>\n",
       "      <td>17.0000</td>\n",
       "      <td>46.5870</td>\n",
       "      <td>333.5000</td>\n",
       "    </tr>\n",
       "    <tr>\n",
       "      <th>gate_40</th>\n",
       "      <td>45489</td>\n",
       "      <td>16.0000</td>\n",
       "      <td>46.3768</td>\n",
       "      <td>333.5000</td>\n",
       "    </tr>\n",
       "  </tbody>\n",
       "</table>\n",
       "</div>"
      ],
      "text/plain": [
       "         count  median    mean      max\n",
       "version                                \n",
       "gate_30  44700 17.0000 46.5870 333.5000\n",
       "gate_40  45489 16.0000 46.3768 333.5000"
      ]
     },
     "execution_count": 12,
     "metadata": {},
     "output_type": "execute_result"
    }
   ],
   "source": [
    "df_ab.groupby(\"version\").sum_gamerounds.agg([\"count\", \"median\", \"mean\", \"max\"])"
   ]
  },
  {
   "cell_type": "code",
   "execution_count": 13,
   "id": "f5b59c56",
   "metadata": {
    "execution": {
     "iopub.execute_input": "2022-07-28T08:30:34.444616Z",
     "iopub.status.busy": "2022-07-28T08:30:34.444270Z",
     "iopub.status.idle": "2022-07-28T08:30:34.461769Z",
     "shell.execute_reply": "2022-07-28T08:30:34.460627Z"
    },
    "papermill": {
     "duration": 0.031079,
     "end_time": "2022-07-28T08:30:34.463964",
     "exception": false,
     "start_time": "2022-07-28T08:30:34.432885",
     "status": "completed"
    },
    "tags": []
   },
   "outputs": [
    {
     "data": {
      "text/html": [
       "<div>\n",
       "<style scoped>\n",
       "    .dataframe tbody tr th:only-of-type {\n",
       "        vertical-align: middle;\n",
       "    }\n",
       "\n",
       "    .dataframe tbody tr th {\n",
       "        vertical-align: top;\n",
       "    }\n",
       "\n",
       "    .dataframe thead th {\n",
       "        text-align: right;\n",
       "    }\n",
       "</style>\n",
       "<table border=\"1\" class=\"dataframe\">\n",
       "  <thead>\n",
       "    <tr style=\"text-align: right;\">\n",
       "      <th></th>\n",
       "      <th>RET1_COUNT</th>\n",
       "      <th>RET7_COUNT</th>\n",
       "      <th>RET1_RATIO</th>\n",
       "      <th>RET7_RATIO</th>\n",
       "    </tr>\n",
       "  </thead>\n",
       "  <tbody>\n",
       "    <tr>\n",
       "      <th>False</th>\n",
       "      <td>50036</td>\n",
       "      <td>73408</td>\n",
       "      <td>0.5548</td>\n",
       "      <td>0.8139</td>\n",
       "    </tr>\n",
       "    <tr>\n",
       "      <th>True</th>\n",
       "      <td>40153</td>\n",
       "      <td>16781</td>\n",
       "      <td>0.4452</td>\n",
       "      <td>0.1861</td>\n",
       "    </tr>\n",
       "  </tbody>\n",
       "</table>\n",
       "</div>"
      ],
      "text/plain": [
       "       RET1_COUNT  RET7_COUNT  RET1_RATIO  RET7_RATIO\n",
       "False       50036       73408      0.5548      0.8139\n",
       "True        40153       16781      0.4452      0.1861"
      ]
     },
     "execution_count": 13,
     "metadata": {},
     "output_type": "execute_result"
    }
   ],
   "source": [
    "df_retention = pd.DataFrame({\"RET1_COUNT\": df_ab[\"retention_1\"].value_counts(),\n",
    "              \"RET7_COUNT\": df_ab[\"retention_7\"].value_counts(),\n",
    "              \"RET1_RATIO\": df_ab[\"retention_1\"].value_counts() / len(df_ab),\n",
    "              \"RET7_RATIO\": df_ab[\"retention_7\"].value_counts() / len(df_ab)})\n",
    "df_retention"
   ]
  },
  {
   "cell_type": "markdown",
   "id": "a888c1d2",
   "metadata": {
    "papermill": {
     "duration": 0.010021,
     "end_time": "2022-07-28T08:30:34.484663",
     "exception": false,
     "start_time": "2022-07-28T08:30:34.474642",
     "status": "completed"
    },
    "tags": []
   },
   "source": [
    "**55 percent of the players didn't play the game 1 day  &  81 percent of the players didn't play the game 7 day after installing**"
   ]
  },
  {
   "cell_type": "code",
   "execution_count": 14,
   "id": "a9ff85c3",
   "metadata": {
    "execution": {
     "iopub.execute_input": "2022-07-28T08:30:34.507008Z",
     "iopub.status.busy": "2022-07-28T08:30:34.506282Z",
     "iopub.status.idle": "2022-07-28T08:30:34.538370Z",
     "shell.execute_reply": "2022-07-28T08:30:34.537166Z"
    },
    "papermill": {
     "duration": 0.045975,
     "end_time": "2022-07-28T08:30:34.540786",
     "exception": false,
     "start_time": "2022-07-28T08:30:34.494811",
     "status": "completed"
    },
    "tags": []
   },
   "outputs": [
    {
     "data": {
      "text/html": [
       "<div>\n",
       "<style scoped>\n",
       "    .dataframe tbody tr th:only-of-type {\n",
       "        vertical-align: middle;\n",
       "    }\n",
       "\n",
       "    .dataframe tbody tr th {\n",
       "        vertical-align: top;\n",
       "    }\n",
       "\n",
       "    .dataframe thead th {\n",
       "        text-align: right;\n",
       "    }\n",
       "</style>\n",
       "<table border=\"1\" class=\"dataframe\">\n",
       "  <thead>\n",
       "    <tr style=\"text-align: right;\">\n",
       "      <th></th>\n",
       "      <th></th>\n",
       "      <th>count</th>\n",
       "      <th>median</th>\n",
       "      <th>mean</th>\n",
       "      <th>max</th>\n",
       "    </tr>\n",
       "    <tr>\n",
       "      <th>version</th>\n",
       "      <th>Retention</th>\n",
       "      <th></th>\n",
       "      <th></th>\n",
       "      <th></th>\n",
       "      <th></th>\n",
       "    </tr>\n",
       "  </thead>\n",
       "  <tbody>\n",
       "    <tr>\n",
       "      <th rowspan=\"2\" valign=\"top\">gate_30</th>\n",
       "      <th>0</th>\n",
       "      <td>38024</td>\n",
       "      <td>12.0000</td>\n",
       "      <td>27.6288</td>\n",
       "      <td>333.5000</td>\n",
       "    </tr>\n",
       "    <tr>\n",
       "      <th>1</th>\n",
       "      <td>6676</td>\n",
       "      <td>127.0000</td>\n",
       "      <td>154.5658</td>\n",
       "      <td>333.5000</td>\n",
       "    </tr>\n",
       "    <tr>\n",
       "      <th rowspan=\"2\" valign=\"top\">gate_40</th>\n",
       "      <th>0</th>\n",
       "      <td>38983</td>\n",
       "      <td>12.0000</td>\n",
       "      <td>27.6771</td>\n",
       "      <td>333.5000</td>\n",
       "    </tr>\n",
       "    <tr>\n",
       "      <th>1</th>\n",
       "      <td>6506</td>\n",
       "      <td>133.0000</td>\n",
       "      <td>158.4227</td>\n",
       "      <td>333.5000</td>\n",
       "    </tr>\n",
       "  </tbody>\n",
       "</table>\n",
       "</div>"
      ],
      "text/plain": [
       "                   count   median     mean      max\n",
       "version Retention                                  \n",
       "gate_30 0          38024  12.0000  27.6288 333.5000\n",
       "        1           6676 127.0000 154.5658 333.5000\n",
       "gate_40 0          38983  12.0000  27.6771 333.5000\n",
       "        1           6506 133.0000 158.4227 333.5000"
      ]
     },
     "execution_count": 14,
     "metadata": {},
     "output_type": "execute_result"
    }
   ],
   "source": [
    "df_ab[\"Retention\"] = np.where((df_ab.retention_1 == True) & (df_ab.retention_7 == True), 1,0)\n",
    "df_ab.groupby([\"version\", \"Retention\"])[\"sum_gamerounds\"].agg([\"count\", \"median\", \"mean\", \"max\"])"
   ]
  },
  {
   "cell_type": "markdown",
   "id": "0ccefc2f",
   "metadata": {
    "papermill": {
     "duration": 0.010351,
     "end_time": "2022-07-28T08:30:34.561662",
     "exception": false,
     "start_time": "2022-07-28T08:30:34.551311",
     "status": "completed"
    },
    "tags": []
   },
   "source": [
    "**The summary statistics are similar here as well.**"
   ]
  },
  {
   "cell_type": "markdown",
   "id": "b829fffc",
   "metadata": {
    "papermill": {
     "duration": 0.01018,
     "end_time": "2022-07-28T08:30:34.582252",
     "exception": false,
     "start_time": "2022-07-28T08:30:34.572072",
     "status": "completed"
    },
    "tags": []
   },
   "source": [
    "<h3 style=\"color:DarkSlateGray\" >6. A/B TESTING</h3>"
   ]
  },
  {
   "cell_type": "code",
   "execution_count": 15,
   "id": "b487cf42",
   "metadata": {
    "execution": {
     "iopub.execute_input": "2022-07-28T08:30:34.605839Z",
     "iopub.status.busy": "2022-07-28T08:30:34.604852Z",
     "iopub.status.idle": "2022-07-28T08:30:34.638201Z",
     "shell.execute_reply": "2022-07-28T08:30:34.636925Z"
    },
    "papermill": {
     "duration": 0.047592,
     "end_time": "2022-07-28T08:30:34.640651",
     "exception": false,
     "start_time": "2022-07-28T08:30:34.593059",
     "status": "completed"
    },
    "tags": []
   },
   "outputs": [
    {
     "data": {
      "text/html": [
       "<div>\n",
       "<style scoped>\n",
       "    .dataframe tbody tr th:only-of-type {\n",
       "        vertical-align: middle;\n",
       "    }\n",
       "\n",
       "    .dataframe tbody tr th {\n",
       "        vertical-align: top;\n",
       "    }\n",
       "\n",
       "    .dataframe thead th {\n",
       "        text-align: right;\n",
       "    }\n",
       "</style>\n",
       "<table border=\"1\" class=\"dataframe\">\n",
       "  <thead>\n",
       "    <tr style=\"text-align: right;\">\n",
       "      <th></th>\n",
       "      <th>userid</th>\n",
       "      <th>version</th>\n",
       "      <th>sum_gamerounds</th>\n",
       "      <th>retention_1</th>\n",
       "      <th>retention_7</th>\n",
       "      <th>Retention</th>\n",
       "    </tr>\n",
       "  </thead>\n",
       "  <tbody>\n",
       "    <tr>\n",
       "      <th>0</th>\n",
       "      <td>116</td>\n",
       "      <td>A</td>\n",
       "      <td>3.0000</td>\n",
       "      <td>False</td>\n",
       "      <td>False</td>\n",
       "      <td>0</td>\n",
       "    </tr>\n",
       "    <tr>\n",
       "      <th>1</th>\n",
       "      <td>337</td>\n",
       "      <td>A</td>\n",
       "      <td>38.0000</td>\n",
       "      <td>True</td>\n",
       "      <td>False</td>\n",
       "      <td>0</td>\n",
       "    </tr>\n",
       "    <tr>\n",
       "      <th>2</th>\n",
       "      <td>377</td>\n",
       "      <td>B</td>\n",
       "      <td>165.0000</td>\n",
       "      <td>True</td>\n",
       "      <td>False</td>\n",
       "      <td>0</td>\n",
       "    </tr>\n",
       "    <tr>\n",
       "      <th>3</th>\n",
       "      <td>483</td>\n",
       "      <td>B</td>\n",
       "      <td>1.0000</td>\n",
       "      <td>False</td>\n",
       "      <td>False</td>\n",
       "      <td>0</td>\n",
       "    </tr>\n",
       "    <tr>\n",
       "      <th>4</th>\n",
       "      <td>488</td>\n",
       "      <td>B</td>\n",
       "      <td>179.0000</td>\n",
       "      <td>True</td>\n",
       "      <td>True</td>\n",
       "      <td>1</td>\n",
       "    </tr>\n",
       "    <tr>\n",
       "      <th>5</th>\n",
       "      <td>540</td>\n",
       "      <td>B</td>\n",
       "      <td>187.0000</td>\n",
       "      <td>True</td>\n",
       "      <td>True</td>\n",
       "      <td>1</td>\n",
       "    </tr>\n",
       "    <tr>\n",
       "      <th>6</th>\n",
       "      <td>1066</td>\n",
       "      <td>A</td>\n",
       "      <td>0.0000</td>\n",
       "      <td>False</td>\n",
       "      <td>False</td>\n",
       "      <td>0</td>\n",
       "    </tr>\n",
       "    <tr>\n",
       "      <th>7</th>\n",
       "      <td>1444</td>\n",
       "      <td>B</td>\n",
       "      <td>2.0000</td>\n",
       "      <td>False</td>\n",
       "      <td>False</td>\n",
       "      <td>0</td>\n",
       "    </tr>\n",
       "    <tr>\n",
       "      <th>8</th>\n",
       "      <td>1574</td>\n",
       "      <td>B</td>\n",
       "      <td>108.0000</td>\n",
       "      <td>True</td>\n",
       "      <td>True</td>\n",
       "      <td>1</td>\n",
       "    </tr>\n",
       "    <tr>\n",
       "      <th>9</th>\n",
       "      <td>1587</td>\n",
       "      <td>B</td>\n",
       "      <td>153.0000</td>\n",
       "      <td>True</td>\n",
       "      <td>False</td>\n",
       "      <td>0</td>\n",
       "    </tr>\n",
       "  </tbody>\n",
       "</table>\n",
       "</div>"
      ],
      "text/plain": [
       "   userid version  sum_gamerounds  retention_1  retention_7  Retention\n",
       "0     116       A          3.0000        False        False          0\n",
       "1     337       A         38.0000         True        False          0\n",
       "2     377       B        165.0000         True        False          0\n",
       "3     483       B          1.0000        False        False          0\n",
       "4     488       B        179.0000         True         True          1\n",
       "5     540       B        187.0000         True         True          1\n",
       "6    1066       A          0.0000        False        False          0\n",
       "7    1444       B          2.0000        False        False          0\n",
       "8    1574       B        108.0000         True         True          1\n",
       "9    1587       B        153.0000         True        False          0"
      ]
     },
     "execution_count": 15,
     "metadata": {},
     "output_type": "execute_result"
    }
   ],
   "source": [
    "# Defining A/B groups\n",
    "df_ab[\"version\"] = np.where(df_ab.version == \"gate_30\", \"A\", \"B\")\n",
    "df_ab.head(10)"
   ]
  },
  {
   "cell_type": "code",
   "execution_count": 16,
   "id": "86b1e2f7",
   "metadata": {
    "execution": {
     "iopub.execute_input": "2022-07-28T08:30:34.664975Z",
     "iopub.status.busy": "2022-07-28T08:30:34.664288Z",
     "iopub.status.idle": "2022-07-28T08:30:34.919520Z",
     "shell.execute_reply": "2022-07-28T08:30:34.918354Z"
    },
    "papermill": {
     "duration": 0.269848,
     "end_time": "2022-07-28T08:30:34.922262",
     "exception": false,
     "start_time": "2022-07-28T08:30:34.652414",
     "status": "completed"
    },
    "tags": []
   },
   "outputs": [
    {
     "name": "stdout",
     "output_type": "stream",
     "text": [
      "Test Stat = 0.6361, p-value = 0.0000\n"
     ]
    },
    {
     "data": {
      "image/png": "[encoded data removed]",
      "text/plain": [
       "<Figure size 432x288 with 1 Axes>"
      ]
     },
     "metadata": {
      "needs_background": "light"
     },
     "output_type": "display_data"
    }
   ],
   "source": [
    "test_stat, pvalue = shapiro(df_ab.loc[df_ab[\"version\"] == \"A\", \"sum_gamerounds\"])\n",
    "print('Test Stat = %.4f, p-value = %.4f' % (test_stat, pvalue))\n",
    "df_ab.loc[df_ab[\"version\"] == \"A\", \"sum_gamerounds\"].hist()\n",
    "plt.show()"
   ]
  },
  {
   "cell_type": "code",
   "execution_count": 17,
   "id": "ca34a05b",
   "metadata": {
    "execution": {
     "iopub.execute_input": "2022-07-28T08:30:34.947099Z",
     "iopub.status.busy": "2022-07-28T08:30:34.946698Z",
     "iopub.status.idle": "2022-07-28T08:30:35.194221Z",
     "shell.execute_reply": "2022-07-28T08:30:35.193320Z"
    },
    "papermill": {
     "duration": 0.262788,
     "end_time": "2022-07-28T08:30:35.196575",
     "exception": false,
     "start_time": "2022-07-28T08:30:34.933787",
     "status": "completed"
    },
    "tags": []
   },
   "outputs": [
    {
     "name": "stdout",
     "output_type": "stream",
     "text": [
      "Test Stat = 0.6388, p-value = 0.0000\n"
     ]
    },
    {
     "data": {
      "image/png": "[encoded data removed]",
      "text/plain": [
       "<Figure size 432x288 with 1 Axes>"
      ]
     },
     "metadata": {
      "needs_background": "light"
     },
     "output_type": "display_data"
    }
   ],
   "source": [
    "test_stat, pvalue = shapiro(df_ab.loc[df_ab[\"version\"] == \"B\", \"sum_gamerounds\"])\n",
    "print('Test Stat = %.4f, p-value = %.4f' % (test_stat, pvalue))\n",
    "df_ab.loc[df_ab[\"version\"] == \"B\", \"sum_gamerounds\"].hist()\n",
    "plt.show()"
   ]
  },
  {
   "cell_type": "markdown",
   "id": "274c26db",
   "metadata": {
    "papermill": {
     "duration": 0.011347,
     "end_time": "2022-07-28T08:30:35.219364",
     "exception": false,
     "start_time": "2022-07-28T08:30:35.208017",
     "status": "completed"
    },
    "tags": []
   },
   "source": [
    "**As we see p value < 0.05 and non parametric , H0 Rejected , we will use mannwhitneyu.**"
   ]
  },
  {
   "cell_type": "code",
   "execution_count": 18,
   "id": "f05db97a",
   "metadata": {
    "execution": {
     "iopub.execute_input": "2022-07-28T08:30:35.243722Z",
     "iopub.status.busy": "2022-07-28T08:30:35.243351Z",
     "iopub.status.idle": "2022-07-28T08:30:35.362487Z",
     "shell.execute_reply": "2022-07-28T08:30:35.361135Z"
    },
    "papermill": {
     "duration": 0.134653,
     "end_time": "2022-07-28T08:30:35.365474",
     "exception": false,
     "start_time": "2022-07-28T08:30:35.230821",
     "status": "completed"
    },
    "tags": []
   },
   "outputs": [
    {
     "name": "stdout",
     "output_type": "stream",
     "text": [
      "Test Stat = 1024339918.5000, p-value = 0.0499\n"
     ]
    }
   ],
   "source": [
    "test_stat, pvalue = mannwhitneyu(df_ab.loc[df_ab[\"version\"] == \"A\", \"sum_gamerounds\"].dropna(),\n",
    "                                 df_ab.loc[df_ab[\"version\"] == \"B\", \"sum_gamerounds\"].dropna())\n",
    "print('Test Stat = %.4f, p-value = %.4f' % (test_stat, pvalue))"
   ]
  },
  {
   "cell_type": "markdown",
   "id": "1803086f",
   "metadata": {
    "papermill": {
     "duration": 0.011007,
     "end_time": "2022-07-28T08:30:35.388762",
     "exception": false,
     "start_time": "2022-07-28T08:30:35.377755",
     "status": "completed"
    },
    "tags": []
   },
   "source": [
    "<h3 style=\"color:DarkSlateGray\" >7. FINAL & CONCLUSION</h3>"
   ]
  },
  {
   "cell_type": "markdown",
   "id": "23ebfca5",
   "metadata": {
    "papermill": {
     "duration": 0.011423,
     "end_time": "2022-07-28T08:30:35.412107",
     "exception": false,
     "start_time": "2022-07-28T08:30:35.400684",
     "status": "completed"
    },
    "tags": []
   },
   "source": [
    "**p value < 0.05 , Mann Whitney U Testing also rejected H0 hypothesis and we learned A/B groups are not similar.**\n",
    "\n",
    "There are statistically significant difference between two groups about moving first gate from level 30 to level 40 for game rounds."
   ]
  },
  {
   "cell_type": "code",
   "execution_count": 19,
   "id": "0a2c7731",
   "metadata": {
    "execution": {
     "iopub.execute_input": "2022-07-28T08:30:35.437373Z",
     "iopub.status.busy": "2022-07-28T08:30:35.436971Z",
     "iopub.status.idle": "2022-07-28T08:30:35.462939Z",
     "shell.execute_reply": "2022-07-28T08:30:35.462114Z"
    },
    "papermill": {
     "duration": 0.041175,
     "end_time": "2022-07-28T08:30:35.465025",
     "exception": false,
     "start_time": "2022-07-28T08:30:35.423850",
     "status": "completed"
    },
    "tags": []
   },
   "outputs": [
    {
     "data": {
      "text/plain": [
       "(version\n",
       " A   0.4482\n",
       " B   0.4423\n",
       " Name: retention_1, dtype: float64,\n",
       " version\n",
       " A   0.1902\n",
       " B   0.1820\n",
       " Name: retention_7, dtype: float64)"
      ]
     },
     "execution_count": 19,
     "metadata": {},
     "output_type": "execute_result"
    }
   ],
   "source": [
    "df_ab.groupby(\"version\").retention_1.mean(), df_ab.groupby(\"version\").retention_7.mean()"
   ]
  },
  {
   "cell_type": "markdown",
   "id": "3899f1ae",
   "metadata": {
    "papermill": {
     "duration": 0.011449,
     "end_time": "2022-07-28T08:30:35.488083",
     "exception": false,
     "start_time": "2022-07-28T08:30:35.476634",
     "status": "completed"
    },
    "tags": []
   },
   "source": [
    "**Although the results are very close, there is a slight advantage to staying at the gate-30.**\n",
    "\n",
    "\n",
    "I hope it was useful. If you like it, I'd be very happy if you could **Upvote**. \n",
    "\n",
    "Thanks , stay with Data!"
   ]
  },
  {
   "cell_type": "markdown",
   "id": "0def7706",
   "metadata": {
    "papermill": {
     "duration": 0.011592,
     "end_time": "2022-07-28T08:30:35.511533",
     "exception": false,
     "start_time": "2022-07-28T08:30:35.499941",
     "status": "completed"
    },
    "tags": []
   },
   "source": []
  }
 ],
 "metadata": {
  "kernelspec": {
   "display_name": "Python 3",
   "language": "python",
   "name": "python3"
  },
  "language_info": {
   "codemirror_mode": {
    "name": "ipython",
    "version": 3
   },
   "file_extension": ".py",
   "mimetype": "text/x-python",
   "name": "python",
   "nbconvert_exporter": "python",
   "pygments_lexer": "ipython3",
   "version": "3.7.12"
  },
  "papermill": {
   "default_parameters": {},
   "duration": 13.366884,
   "end_time": "2022-07-28T08:30:36.244592",
   "environment_variables": {},
   "exception": null,
   "input_path": "__notebook__.ipynb",
   "output_path": "__notebook__.ipynb",
   "parameters": {},
   "start_time": "2022-07-28T08:30:22.877708",
   "version": "2.3.4"
  }
 },
 "nbformat": 4,
 "nbformat_minor": 5
}
